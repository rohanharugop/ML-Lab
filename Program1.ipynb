{
 "cells": [
  {
   "cell_type": "code",
   "execution_count": 1,
   "id": "3d7d65b4",
   "metadata": {},
   "outputs": [
    {
     "name": "stdout",
     "output_type": "stream",
     "text": [
      "Project 1\n"
     ]
    }
   ],
   "source": [
    "print(\"Project 1\")"
   ]
  },
  {
   "cell_type": "code",
   "execution_count": 41,
   "id": "63065e73",
   "metadata": {},
   "outputs": [],
   "source": [
    "import numpy as np\n",
    "import pandas as pd\n",
    "from sklearn.datasets import load_iris\n",
    "from sklearn.model_selection import train_test_split\n",
    "from sklearn.linear_model import LogisticRegression\n",
    "from sklearn.metrics import *\n",
    "import matplotlib.pyplot as plt"
   ]
  },
  {
   "cell_type": "code",
   "execution_count": 22,
   "id": "5cf12723",
   "metadata": {},
   "outputs": [],
   "source": [
    "def calculate_metrics(y_true, y_pred):\n",
    "    tp = tn = fp = fn = 0\n",
    "    for t, p in zip(y_true, y_pred):\n",
    "        if t == 1 and p == 1: tp += 1\n",
    "        elif t == 0 and p == 0: tn += 1\n",
    "        elif t == 0 and p == 1: fp += 1\n",
    "        else: fn += 1\n",
    "    return tp, tn, fp, fn\n",
    "\n",
    "    \n",
    "\n"
   ]
  },
  {
   "cell_type": "code",
   "execution_count": 23,
   "id": "2cd66f5e",
   "metadata": {},
   "outputs": [],
   "source": [
    "X, y = load_iris(return_X_y=True)\n",
    "X = X[y != 2]\n",
    "y = y[y != 2]"
   ]
  },
  {
   "cell_type": "code",
   "execution_count": 25,
   "id": "6b34c94a",
   "metadata": {},
   "outputs": [],
   "source": [
    "X_train, X_test, y_train, y_test = train_test_split(X, y, test_size=0.2,random_state=42)"
   ]
  },
  {
   "cell_type": "code",
   "execution_count": 26,
   "id": "fb58ff99",
   "metadata": {},
   "outputs": [],
   "source": [
    "model = LogisticRegression()\n",
    "model.fit(X_train, y_train)\n",
    "y_pred = model.predict(X_test)\n",
    "y_proba = model.predict_proba(X_test)[:,1]"
   ]
  },
  {
   "cell_type": "code",
   "execution_count": 38,
   "id": "f14ec9ce",
   "metadata": {},
   "outputs": [
    {
     "name": "stdout",
     "output_type": "stream",
     "text": [
      "Custom Calculation:\n",
      "Accuracy:1.0000\n",
      "Precision: 1.0000\n",
      "Recall: 1.0000\n",
      "F1-Score: 1.0000\n",
      "MCC: 1.0000\n",
      "Specificity: 1.0000\n",
      "NPV: 1.0000\n",
      "\n"
     ]
    }
   ],
   "source": [
    "tp,tn,fp,fn = calculate_metrics(y_test, y_pred)\n",
    "total = tp+tn+fp+fn\n",
    "print(\"Custom Calculation:\")\n",
    "print(f\"Accuracy:{(tp+tn)/total:.4f}\")\n",
    "print(f\"Precision: {tp/(tp+fp):.4f}\")\n",
    "print(f\"Recall: {tp/(tp+fn):.4f}\")\n",
    "print(f\"F1-Score: {(2*tp)/(2*tp+fp+fn):.4f}\")\n",
    "print(f\"MCC: {(tp*tn-fp*fn)/np.sqrt((tp+fp)*(tp+fn)*(tn+fp)*(tn+fn)):.4f}\")\n",
    "print(f\"Specificity: {tn/(tn+fp):.4f}\")\n",
    "print(f\"NPV: {tn/(tn+fn):.4f}\\n\")\n",
    "\n"
   ]
  },
  {
   "cell_type": "code",
   "execution_count": null,
   "id": "0348939c",
   "metadata": {},
   "outputs": [
    {
     "name": "stdout",
     "output_type": "stream",
     "text": [
      "Sklearn metrics:\n",
      "accuracy_score: 1.0000\n",
      "Precision: 1.0000\n",
      "Recall: 1.0000\n",
      "F1-Score: 1.0000\n",
      "MCC: 1.0000\n"
     ]
    }
   ],
   "source": [
    "print(\"Sklearn metrics:\")\n",
    "print(f\"accuracy_score: {accuracy_score(y_test, y_pred):.4f}\")\n",
    "print(f\"Precision: {precision_score(y_test, y_pred):.4f}\")\n",
    "print(f\"Recall: {recall_score(y_test, y_pred):.4f}\")\n",
    "print(f\"F1-Score: {f1_score(y_test, y_pred):.4f}\")\n",
    "print(f\"MCC: {matthews_corrcoef(y_test, y_pred):.4f}\")\n"
   ]
  },
  {
   "cell_type": "code",
   "execution_count": 42,
   "id": "677ea690",
   "metadata": {},
   "outputs": [
    {
     "name": "stdout",
     "output_type": "stream",
     "text": [
      "Confusion Matrix:\n"
     ]
    },
    {
     "data": {
      "image/png": "[encoded data removed]",
      "text/plain": [
       "<Figure size 640x480 with 2 Axes>"
      ]
     },
     "metadata": {},
     "output_type": "display_data"
    },
    {
     "name": "stdout",
     "output_type": "stream",
     "text": [
      "[1 1 1 0 0 0 0 1 0 0 0 0 1 0 1 0 1 1 0 0]\n",
      "[0.99881545 0.98420197 0.99695291 0.03040059 0.05730628 0.02838856\n",
      " 0.00643678 0.9683098  0.02539298 0.0210692  0.04487116 0.03927331\n",
      " 0.99569257 0.01413626 0.99072208 0.01853577 0.99792052 0.99874469\n",
      " 0.02538436 0.03883831]\n"
     ]
    }
   ],
   "source": [
    "print(\"Confusion Matrix:\")\n",
    "cm = confusion_matrix(y_test, y_pred)\n",
    "disp = ConfusionMatrixDisplay(confusion_matrix=cm)\n",
    "disp.plot(cmap=\"Blues\")\n",
    "plt.show()\n",
    "print(y_test)\n",
    "print(y_proba)"
   ]
  },
  {
   "cell_type": "code",
   "execution_count": 43,
   "id": "e4badfc9",
   "metadata": {},
   "outputs": [
    {
     "name": "stdout",
     "output_type": "stream",
     "text": [
      "20\n"
     ]
    }
   ],
   "source": [
    "print(total)"
   ]
  },
  {
   "cell_type": "code",
   "execution_count": null,
   "id": "e4cf3295",
   "metadata": {},
   "outputs": [],
   "source": []
  }
 ],
 "metadata": {
  "kernelspec": {
   "display_name": "CVprojects",
   "language": "python",
   "name": "python3"
  },
  "language_info": {
   "codemirror_mode": {
    "name": "ipython",
    "version": 3
   },
   "file_extension": ".py",
   "mimetype": "text/x-python",
   "name": "python",
   "nbconvert_exporter": "python",
   "pygments_lexer": "ipython3",
   "version": "3.10.13"
  }
 },
 "nbformat": 4,
 "nbformat_minor": 5
}
